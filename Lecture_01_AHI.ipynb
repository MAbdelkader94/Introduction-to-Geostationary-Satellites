{
 "cells": [
  {
   "cell_type": "markdown",
   "id": "a790644e-7cbd-4612-a493-c86280125f4e",
   "metadata": {
    "tags": []
   },
   "source": [
    "## SatPy - Part 1: Exploring Advanced Himawari Imager (AHI) data\n",
    "\n",
    "For detailed documentation, visit [SatPy Documentation](https://satpy.readthedocs.io/en/latest/index.html).\n",
    "\n",
    "SatPy is a powerful library for **reading**, **manipulating**, and **displaying** data from remote sensors, primarily related to meteorology. It also provides the capability to **save** this data as images or in various formats.\n",
    "\n",
    "SatPy excels at generating images with **individual channels or bands** and creating **RGB composites** directly from satellite instrument data.\n",
    "\n",
    "The pyresample library is used for **resampling data** in different areas with specific projections or uniform grids.\n",
    "\n",
    "Additionally, Satpy offers various **atmospheric corrections** and **visual enhancements**, either directly within Satpy or through the PySpectral and TrollImage packages."
   ]
  },
  {
   "cell_type": "markdown",
   "id": "ca6fc61b-a63f-412a-9e4d-74c4d0288208",
   "metadata": {},
   "source": [
    "# Advanced Himawari Imager (AHI) data\n",
    "https://www.earthdata.nasa.gov/sensors/ahi"
   ]
  },
  {
   "cell_type": "code",
   "execution_count": null,
   "id": "648dc674-8649-4a2a-b225-345967aad558",
   "metadata": {},
   "outputs": [],
   "source": [
    "urls2dwn = ['https://noaa-himawari9.s3.amazonaws.com/AHI-L1b-Japan/2024/03/02/1600/HS_H09_20240302_1600_B01_JP01_R10_S0101.DAT.bz2',\n",
    " 'https://noaa-himawari9.s3.amazonaws.com/AHI-L1b-Japan/2024/03/02/1600/HS_H09_20240302_1600_B02_JP01_R10_S0101.DAT.bz2',\n",
    " 'https://noaa-himawari9.s3.amazonaws.com/AHI-L1b-Japan/2024/03/02/1600/HS_H09_20240302_1600_B03_JP01_R05_S0101.DAT.bz2',\n",
    " 'https://noaa-himawari9.s3.amazonaws.com/AHI-L1b-Japan/2024/03/02/1600/HS_H09_20240302_1600_B04_JP01_R10_S0101.DAT.bz2',\n",
    " 'https://noaa-himawari9.s3.amazonaws.com/AHI-L1b-Japan/2024/03/02/1600/HS_H09_20240302_1600_B05_JP01_R20_S0101.DAT.bz2',\n",
    " 'https://noaa-himawari9.s3.amazonaws.com/AHI-L1b-Japan/2024/03/02/1600/HS_H09_20240302_1600_B06_JP01_R20_S0101.DAT.bz2',\n",
    " 'https://noaa-himawari9.s3.amazonaws.com/AHI-L1b-Japan/2024/03/02/1600/HS_H09_20240302_1600_B07_JP01_R20_S0101.DAT.bz2',\n",
    " 'https://noaa-himawari9.s3.amazonaws.com/AHI-L1b-Japan/2024/03/02/1600/HS_H09_20240302_1600_B08_JP01_R20_S0101.DAT.bz2',\n",
    " 'https://noaa-himawari9.s3.amazonaws.com/AHI-L1b-Japan/2024/03/02/1600/HS_H09_20240302_1600_B09_JP01_R20_S0101.DAT.bz2',\n",
    " 'https://noaa-himawari9.s3.amazonaws.com/AHI-L1b-Japan/2024/03/02/1600/HS_H09_20240302_1600_B10_JP01_R20_S0101.DAT.bz2',\n",
    " 'https://noaa-himawari9.s3.amazonaws.com/AHI-L1b-Japan/2024/03/02/1600/HS_H09_20240302_1600_B11_JP01_R20_S0101.DAT.bz2',\n",
    " 'https://noaa-himawari9.s3.amazonaws.com/AHI-L1b-Japan/2024/03/02/1600/HS_H09_20240302_1600_B12_JP01_R20_S0101.DAT.bz2',\n",
    " 'https://noaa-himawari9.s3.amazonaws.com/AHI-L1b-Japan/2024/03/02/1600/HS_H09_20240302_1600_B13_JP01_R20_S0101.DAT.bz2',\n",
    " 'https://noaa-himawari9.s3.amazonaws.com/AHI-L1b-Japan/2024/03/02/1600/HS_H09_20240302_1600_B14_JP01_R20_S0101.DAT.bz2',\n",
    " 'https://noaa-himawari9.s3.amazonaws.com/AHI-L1b-Japan/2024/03/02/1600/HS_H09_20240302_1600_B15_JP01_R20_S0101.DAT.bz2',\n",
    " 'https://noaa-himawari9.s3.amazonaws.com/AHI-L1b-Japan/2024/03/02/1600/HS_H09_20240302_1600_B16_JP01_R20_S0101.DAT.bz2']"
   ]
  },
  {
   "cell_type": "code",
   "execution_count": null,
   "id": "9a2ba1fa-8261-4a9c-b1cd-62800f302a49",
   "metadata": {},
   "outputs": [],
   "source": [
    "import requests\n",
    "import os\n",
    "\n",
    "# Specify the local directory where you want to save the files.\n",
    "local_directory = \"Output_data\"\n",
    "# Ensure that the local directory exists; create it if it doesn't.\n",
    "## Your code goes here:\n",
    "\n",
    "#######################\n",
    "\n",
    "# Iterate through the URLs and download files.\n",
    "for urld in urls2dwn:\n",
    "    # Extract the filename from the URL.\n",
    "    ntw = urld.split('/')[-1]\n",
    "    \n",
    "    # Construct the complete path to save the file in the local directory.\n",
    "    file_path = os.path.join(local_directory, ntw)\n",
    "    \n",
    "    # Send an HTTP GET request to the URL.\n",
    "    resp = requests.get(urld)\n",
    "    \n",
    "    # Check if the response is successful (status code 200).\n",
    "    if resp.status_code == 200:\n",
    "        # Write the content to the file in binary mode.\n",
    "        with open(file_path, \"wb\") as file:\n",
    "            file.write(resp.content)\n",
    "        print(f\"File '{ntw}' downloaded and saved to '{local_directory}'.\")\n",
    "    else:\n",
    "        print(f\"Failed to download '{ntw}' from the URL: {urld}\")\n"
   ]
  },
  {
   "cell_type": "markdown",
   "id": "37322f60-be7c-4899-ba79-be382f0beff7",
   "metadata": {
    "tags": []
   },
   "source": [
    "## Loading and Visualizing Satellite Data"
   ]
  },
  {
   "cell_type": "markdown",
   "id": "9979ef3b-ce30-49ea-84d1-e8eb1fc1f78c",
   "metadata": {},
   "source": [
    "# SatPy is well-suited for working with geostationary satellite data, such as GOES-R or Himawari:"
   ]
  },
  {
   "cell_type": "code",
   "execution_count": null,
   "id": "10c33b2c-0d3b-49a1-80e4-83ea6b17a0a2",
   "metadata": {},
   "outputs": [],
   "source": [
    "# Importing the warnings module and setting it to ignore all warnings.\n",
    "# This is useful to prevent unnecessary warning messages from cluttering the notebook output.\n",
    "\n",
    "## Your code goes here:\n",
    "\n",
    "#######################"
   ]
  },
  {
   "cell_type": "code",
   "execution_count": null,
   "id": "a4c82f6b-f80c-47bd-9dc5-f58c680c1339",
   "metadata": {},
   "outputs": [],
   "source": [
    "# Importing Scene from the satpy module. Scene is used to represent satellite data \n",
    "# and allows for operations like reading, resampling, compositing, and saving data.\n",
    "## Your code goes here:\n",
    "\n",
    "#######################\n",
    "\n",
    "\n",
    "# Importing find_files_and_readers from satpy. This function is used to automatically\n",
    "# locate satellite data files and determine the appropriate reader based on the \n",
    "# metadata and contents of the files.\n",
    "## Your code goes here:\n",
    "\n",
    "#######################"
   ]
  },
  {
   "cell_type": "markdown",
   "id": "3079e52d",
   "metadata": {},
   "source": [
    "This line imports the debug_on function from the satpy.utils module, which is used to enable detailed debug logging in Satpy. This can be helpful for troubleshooting and understanding the internal workings of Satpy processes."
   ]
  },
  {
   "cell_type": "code",
   "execution_count": null,
   "id": "cbe62941-36a7-4157-94f7-624d072f7754",
   "metadata": {},
   "outputs": [],
   "source": [
    "## Your code goes here:\n",
    "\n",
    "#######################"
   ]
  },
  {
   "cell_type": "markdown",
   "id": "b9f5162f-b4b0-4ce9-ae1b-a51615e0964f",
   "metadata": {},
   "source": [
    "## Searching for Native MSG Data"
   ]
  },
  {
   "cell_type": "code",
   "execution_count": null,
   "id": "5f5ec72a-0eac-48b1-a8e7-b19e27ca171f",
   "metadata": {},
   "outputs": [],
   "source": [
    " # Importing datetime for date and time operations\n",
    "## Your code goes here:\n",
    "\n",
    "#######################"
   ]
  },
  {
   "cell_type": "code",
   "execution_count": null,
   "id": "09b77e1a-be7d-4507-8f9c-509dc714d14d",
   "metadata": {},
   "outputs": [],
   "source": [
    "fMSGn = find_files_and_readers(start_time = datetime(2024,3,2,16,0),  # Set start time for file search\n",
    "                            #end_time = datetime(2019,7,22,12,59),   # Optional: Set end time for file search\n",
    "                            base_dir = 'Output_data',  # Set the base directory for the search\n",
    "                            reader = 'ahi_hsd')  # Specify the file reader\n",
    "## Your code goes here:\n",
    "        # Display the found files"
   ]
  },
  {
   "cell_type": "code",
   "execution_count": null,
   "id": "6be534be-b623-40f6-8ae2-784c705d62c9",
   "metadata": {},
   "outputs": [],
   "source": [
    "## Your code goes here:\n",
    "            # Import the glob module to find files using pattern matching"
   ]
  },
  {
   "cell_type": "code",
   "execution_count": null,
   "id": "b0de9b82-4ce3-4e93-89ec-4b6ab48abacd",
   "metadata": {},
   "outputs": [],
   "source": [
    "## Your code goes here:\n",
    "\n",
    "#######################\n",
    "\n",
    "# List all files matching the specified pattern in the directory, useful for handling multiple files\n",
    "\n",
    "# scn = Scene(reader = 'seviri_l1b_native', filenames = fnames)  # Create a Scene object using the SEVIRI L1B native reader with the specified filenames"
   ]
  },
  {
   "cell_type": "markdown",
   "id": "23d7587d-b060-4422-9585-a8feef0a3451",
   "metadata": {},
   "source": [
    "> **SatPy** always expects the original file names!\n",
    "\n",
    "So, do not change them when saving the data on your local machine. Otherwise, SatPy will not be able to open the files."
   ]
  },
  {
   "cell_type": "code",
   "execution_count": null,
   "id": "6866098b-8231-48b0-aa7d-b8054c77d33d",
   "metadata": {},
   "outputs": [],
   "source": [
    "# Creating a Scene object using the file information gathered by find_files_and_readers function\n",
    "## Your code goes here:\n",
    "\n",
    "#######################\n"
   ]
  },
  {
   "cell_type": "code",
   "execution_count": null,
   "id": "2f49d865-4ef8-435e-b07f-550e8433d86e",
   "metadata": {},
   "outputs": [],
   "source": [
    "# Accessing the attributes of the Scene object to retrieve metadata and other information\n",
    "## Your code goes here:\n",
    "\n",
    "#######################\n"
   ]
  },
  {
   "cell_type": "code",
   "execution_count": null,
   "id": "879bcfb6-3e63-482e-81c6-1dade191a75f",
   "metadata": {},
   "outputs": [],
   "source": [
    "# Creating a Scene object from the filenames specified in fMSGn\n",
    "## Your code goes here:\n",
    "\n",
    "#######################"
   ]
  },
  {
   "cell_type": "code",
   "execution_count": null,
   "id": "8ce2002b-716e-4d85-b50f-97a14e8a285c",
   "metadata": {},
   "outputs": [],
   "source": [
    "# Accessing the attributes of the Scene object to view metadata information\n",
    "## Your code goes here:\n",
    "\n",
    "#######################"
   ]
  },
  {
   "cell_type": "code",
   "execution_count": null,
   "id": "7751d228-a565-4311-a161-a4048b2c7f9b",
   "metadata": {},
   "outputs": [],
   "source": [
    "# Retrieve and print all available dataset names in the scene\n",
    "## Your code goes here:\n",
    "\n",
    "\n",
    "\n",
    "#######################"
   ]
  },
  {
   "cell_type": "markdown",
   "id": "4a18e99c",
   "metadata": {},
   "source": [
    "The `scn.load(['IR_108'], upper_right_corner='NE')` line in ther code bellow is used for loading a specific dataset from a satellite scene in Satpy. Let's break down what each part does:\n",
    "\n",
    "1. `scn`: This is your Satpy `Scene` object, which contains data from satellite files that you've previously loaded.\n",
    "\n",
    "2. `.load()`: This method is used to load specific datasets from the satellite files into memory, making them ready for processing and analysis.\n",
    "\n",
    "3. `['IR_108']`: This is a list containing the names of the datasets you want to load. In this case, you're loading the dataset named `IR_108`, which typically refers to infrared imagery at a wavelength of 10.8 micrometers. This wavelength is often used for cloud imaging, among other applications.\n",
    "\n",
    "4. `upper_right_corner='NE'`: This parameter specifies how the data should be oriented when loaded. `NE` means that the upper right corner of the data should be in the northeast. This can be important for getting the geographical orientation correct, especially when dealing with global or hemispherical datasets.\n",
    "\n",
    "After running this line, the `IR_108` dataset will be loaded into your scene and ready for further processing, such as visualization or analysis."
   ]
  },
  {
   "cell_type": "code",
   "execution_count": null,
   "id": "b7b27471-0b11-4aa9-9f8d-275be276bb29",
   "metadata": {},
   "outputs": [],
   "source": [
    "## Your code goes here:\n",
    "\n",
    "\n",
    "#######################"
   ]
  },
  {
   "cell_type": "markdown",
   "id": "742819d7",
   "metadata": {},
   "source": [
    "The scn.keys() method in Satpy is used to retrieve a list of all the dataset keys available in the currently loaded Scene object."
   ]
  },
  {
   "cell_type": "code",
   "execution_count": null,
   "id": "6624a28e-8940-4993-8ab6-1fbc651230c1",
   "metadata": {},
   "outputs": [],
   "source": [
    "## Your code goes here:\n",
    "\n",
    "\n",
    "#######################"
   ]
  },
  {
   "cell_type": "code",
   "execution_count": null,
   "id": "0d1f805f-68e0-490b-a128-9015fdb2808b",
   "metadata": {},
   "outputs": [],
   "source": [
    "# Show the 'IR_108' dataset using Satpy's built-in visualization capabilities\n",
    "## Your code goes here:\n",
    "\n",
    "\n",
    "#######################"
   ]
  },
  {
   "cell_type": "code",
   "execution_count": null,
   "id": "49c18e66-05a6-4d4d-bea0-f79c64d7fabf",
   "metadata": {},
   "outputs": [],
   "source": [
    "%matplotlib inline\n",
    "# Plot the 'IR_108' channel using matplotlib's imshow function\n",
    "## Your code goes here:\n",
    "\n",
    "\n",
    "#######################"
   ]
  },
  {
   "cell_type": "code",
   "execution_count": null,
   "id": "1c96d1bf-a16b-47e0-afba-41eb94d98e09",
   "metadata": {},
   "outputs": [],
   "source": [
    "# Import the matplotlib library for creating visualizations in Python\n",
    "## Your code goes here:\n",
    "\n",
    "\n",
    "#######################"
   ]
  },
  {
   "cell_type": "code",
   "execution_count": null,
   "id": "63f90ea8-4a46-4b71-9339-fc126747ae9d",
   "metadata": {},
   "outputs": [],
   "source": [
    "# Create a figure and an axes object with specified figure size\n",
    "## Your code goes here:\n",
    "\n",
    "#######################\n",
    "\n",
    "# Display the data from the 'IR_108' channel of the satellite scene using a grayscale color map\n",
    "## Your code goes here:\n",
    "\n",
    "#######################\n",
    "\n",
    "# Hide the axis labels and ticks to focus on the image only\n",
    "## Your code goes here:\n",
    "\n",
    "#######################\n",
    "\n",
    "# Add a colorbar to the plot with a fraction size of the plot, useful for scale/reference\n",
    "## Your code goes here:\n",
    "\n",
    "#######################\n",
    "\n",
    "# Display the figure with all its components\n",
    "## Your code goes here:\n",
    "\n",
    "#######################"
   ]
  },
  {
   "cell_type": "code",
   "execution_count": null,
   "id": "034f9104-fb6a-42ca-8446-b59df899205e",
   "metadata": {},
   "outputs": [],
   "source": [
    "# Accessing the 'IR_108' dataset from the Scene object 'scn'\n",
    "# - 'scn' is a Scene object, used for handling satellite data.\n",
    "# - 'IR_108' specifies an infrared channel at 10.8 micrometers.\n",
    "# This dataset is used for cloud imaging, surface temperature, and atmospheric analysis in meteorology.\n",
    "## Your code goes here:\n",
    "\n",
    "#######################"
   ]
  },
  {
   "cell_type": "markdown",
   "id": "2c339a18",
   "metadata": {},
   "source": [
    "# Radiance Calibration"
   ]
  },
  {
   "cell_type": "code",
   "execution_count": null,
   "id": "fadc9d91",
   "metadata": {},
   "outputs": [],
   "source": [
    "# Load the data for the 10.8μm band.\n",
    "# The parameter [10.8] specifies the wavelength of the band in micrometers.\n",
    "scn.load([10.3], \n",
    "\n",
    "         # Specify the calibration to radiance values.\n",
    "         # \"radiance\" calibration converts the data to radiometric units (mW m-2 sr-1 (cm-1)-1).\n",
    "         ## Your code goes here:\n",
    "         calibration=, \n",
    "\n",
    "         # Set the orientation of the image.\n",
    "         # \"upper_right_corner='NE'\" aligns the image with its upper right corner to the northeast.\n",
    "         upper_right_corner='NE')"
   ]
  },
  {
   "cell_type": "markdown",
   "id": "f9e92a47",
   "metadata": {},
   "source": [
    "# Brightness Temperature Calibration"
   ]
  },
  {
   "cell_type": "code",
   "execution_count": null,
   "id": "5f590370",
   "metadata": {},
   "outputs": [],
   "source": [
    "# Load the data for the 10.8μm band again, this time for a different calibration.\n",
    "scn.load([10.3], \n",
    "\n",
    "         # Specify the calibration to brightness temperatures.\n",
    "         # \"brightness_temperature\" calibration converts the data to temperature units (Kelvin).\n",
    "         ## Your code goes here:\n",
    "\n",
    "         calibration=, \n",
    "\n",
    "         # Maintain the same orientation as before.\n",
    "         upper_right_corner='NE')"
   ]
  },
  {
   "cell_type": "code",
   "execution_count": null,
   "id": "8092dada-3b4f-4882-908a-f8bae16280c0",
   "metadata": {},
   "outputs": [],
   "source": [
    "# List all the datasets currently loaded into the Scene object 'scn'\n",
    "## Your code goes here:\n",
    "\n",
    "\n",
    "\n",
    "#######################"
   ]
  },
  {
   "cell_type": "code",
   "execution_count": null,
   "id": "9f314712-0c58-4dd4-a935-82247d633c13",
   "metadata": {},
   "outputs": [],
   "source": [
    "# Convert the keys view to a list to enable indexing\n",
    "## Your code goes here:\n",
    "\n",
    "#######################\n",
    "\n",
    "\n",
    "# Access the second dataset key\n",
    "## Your code goes here:\n",
    "\n",
    "#######################\n",
    "\n",
    "# Extract the central wavelength from the 'wavelength' attribute of the second dataset key\n",
    "## Your code goes here:\n",
    "\n",
    "#######################\n",
    "\n",
    "# Print the central wavelength and the key for the second dataset\n",
    "## Your code goes here:\n",
    "\n",
    "\n",
    "#######################"
   ]
  },
  {
   "cell_type": "code",
   "execution_count": null,
   "id": "7362d584-7383-4815-965e-9db92cb69b70",
   "metadata": {},
   "outputs": [],
   "source": [
    "# Create a figure and two subplot axes, arranged horizontally, with specified size\n",
    "## Your code goes here:\n",
    "\n",
    "\n",
    "#######################\n",
    "\n",
    "# Display the values of the second dataset in the Scene on the first subplot (ax1) using a grayscale color map\n",
    "im1 = ax1.imshow(scn[scn.keys()[1]].values, cmap=\"Greys\")\n",
    "# Remove the axis labels and ticks for ax1\n",
    "ax1.set_axis_off()\n",
    "\n",
    "# Display the values of the first dataset in the Scene on the second subplot (ax2) using a grayscale color map\n",
    "im2 = ax2.imshow(scn[scn.keys()[0]].values, cmap=\"Greys\")\n",
    "# Remove the axis labels and ticks for ax2\n",
    "ax2.set_axis_off()\n",
    "\n",
    "# Set the title for ax2\n",
    "ax2.set_title(\"10.8μm Brightness temperature\")\n",
    "# Set the title for ax1\n",
    "ax1.set_title(\"10.8μm Radiance\")\n",
    "\n",
    "# Add a colorbar next to ax1, adjusting its size\n",
    "fig.colorbar(im1, ax=ax1, fraction=.05)\n",
    "# Add a colorbar next to ax2, adjusting its size\n",
    "fig.colorbar(im2, ax=ax2, fraction=.05)\n",
    "\n",
    "# Display the figure\n",
    "## Your code goes here:\n",
    "\n",
    "#######################"
   ]
  },
  {
   "cell_type": "code",
   "execution_count": null,
   "id": "417f058a-db9e-462c-b8fc-0cf43119d338",
   "metadata": {},
   "outputs": [],
   "source": [
    "# Access the x-coordinates (longitude values) of the 'IR_108' data array in the Scene object\n",
    "## Your code goes here:\n",
    "\n",
    "\n",
    "#######################"
   ]
  },
  {
   "cell_type": "code",
   "execution_count": null,
   "id": "ee7d6a74-35ca-4ee3-9ef5-a53fe1398769",
   "metadata": {},
   "outputs": [],
   "source": [
    "# define palette (matplotlib style)\n",
    "cmap = ['#ffffff', '#ffffff', '#ffffff', '#ffffff', '#ffffff', '#b6ffb6', '#79ff79', '#00ff00', '#ff8e8e', '#ff5151', '#ff0000', '#aa0000', '#550000', '#00ffff', '#00bef3', '#0079ca', \n",
    "        '#0028a2', '#000079', '#fbfb00', '#e7e700', '#d2d200', '#baba00', '#a6a600', '#8e8e00', '#797900', '#656500', '#dbdbdb', '#d2d2d2', '#cacaca', '#c2c2c2', '#bababa', '#b2b2b2', \n",
    "        '#aaaaaa', '#a6a6a6', '#9e9e9e', '#969696', '#8e8e8e', '#868686', '#7d7d7d', '#757575', '#6d6d6d', '#656565', '#5d5d5d', '#595959', '#515151', '#494949', '#414141', '#393939',\n",
    "        '#313131', '#282828', '#202020', '#181818', '#141414', '#000000', '#000000', '#000000', '#000000', '#000000', '#000000', '#000000', '#000000', '#000000', '#000000', '#000000',]"
   ]
  },
  {
   "cell_type": "code",
   "execution_count": null,
   "id": "447cbb36-a437-4279-8c9c-b5ef9bbc13f1",
   "metadata": {},
   "outputs": [],
   "source": [
    "# Retrieve the area definition (spatial reference) associated with the 'IR_108' data array from its attributes\n",
    "## Your code goes here:\n",
    "\n",
    "\n",
    "#######################"
   ]
  },
  {
   "cell_type": "code",
   "execution_count": null,
   "id": "7ea3e31d-1e4c-432a-b19e-3ece649ca60c",
   "metadata": {},
   "outputs": [],
   "source": [
    "# Convert the area definition to a Cartopy Coordinate Reference System (CRS) object for mapping and visualization\n",
    "## Your code goes here:\n",
    "\n",
    "\n",
    "#######################"
   ]
  },
  {
   "cell_type": "code",
   "execution_count": null,
   "id": "7be02b9e-bede-4d6d-bd8a-6407dffcfe00",
   "metadata": {},
   "outputs": [],
   "source": [
    "# Convert the area definition to a Cartopy CRS (Coordinate Reference System) object for accurate mapping\n",
    "## Your code goes here:\n",
    "\n",
    "#######################\n",
    "\n",
    "# Create a figure with specific size\n",
    "## Your code goes here:\n",
    "\n",
    "#######################\n",
    "\n",
    "# Add axes to the figure with the specified projection (crs)\n",
    "ax = plt.axes(projection=crs)\n",
    "\n",
    "# Draw coastlines on the map for reference\n",
    "ax.coastlines()\n",
    "\n",
    "# Add gridlines to the map\n",
    "ax.gridlines()\n",
    "\n",
    "# Display the 'IR_108' data as an image, using the converted Cartopy CRS for correct geographical placement\n",
    "plt.imshow(scn['B13'], transform=crs, extent=crs.bounds, origin='upper')\n",
    "\n",
    "# Add a color bar to the plot, labeling it with the data's unit of measurement\n",
    "plt.colorbar(label=scn['B13'].attrs['units'])\n",
    "\n",
    "# Display the plot\n",
    "## Your code goes here:\n",
    "\n",
    "#######################"
   ]
  },
  {
   "cell_type": "code",
   "execution_count": null,
   "id": "23062168-9ed1-4667-90fa-67cc983f8ed6",
   "metadata": {},
   "outputs": [],
   "source": [
    "# Import the NumPy library, which provides support for large, multi-dimensional arrays and matrices, along with a collection of mathematical functions to operate on these arrays\n",
    "## Your code goes here:\n",
    "\n",
    "#######################"
   ]
  },
  {
   "cell_type": "code",
   "execution_count": null,
   "id": "54d9cf92-aad9-425c-b8c1-6d891d41cc84",
   "metadata": {
    "scrolled": true
   },
   "outputs": [],
   "source": [
    "# Create an array of levels for the color map, spanning from -109 to 56, with the same length as the 'cmap'\n",
    "## Your code goes here:\n",
    "\n",
    "#######################\n",
    "\n",
    "# Create a BoundaryNorm object for the color map to ensure proper coloring based on specified levels\n",
    "norm = plt.cm.colors.BoundaryNorm(levels, len(levels))\n",
    "\n",
    "# Create a ListedColormap using the 'cmap' colors and the custom norm\n",
    "irmap = plt.cm.colors.ListedColormap(cmap)\n",
    "\n",
    "# Display results\n",
    "\n",
    "# Convert the area definition to a Cartopy CRS (Coordinate Reference System) object for accurate mapping\n",
    "## Your code goes here:\n",
    "\n",
    "#######################\n",
    "\n",
    "# Create a figure with specific size\n",
    "## Your code goes here:\n",
    "\n",
    "#######################\n",
    "\n",
    "# Add axes to the figure with the specified projection (crs)\n",
    "## Your code goes here:\n",
    "\n",
    "#######################\n",
    "\n",
    "# Draw coastlines on the map for reference\n",
    "## Your code goes here:\n",
    "\n",
    "#######################\n",
    "\n",
    "# Add gridlines to the map\n",
    "## Your code goes here:\n",
    "\n",
    "#######################\n",
    "\n",
    "# Display the 'IR_108' data as an image, using the converted Cartopy CRS for correct geographical placement\n",
    "# Set the minimum and maximum values for the color map (vmin and vmax)\n",
    "# Use the custom 'irmap' color map and apply the 'norm' for color scaling\n",
    "## Your code goes here:\n",
    "\n",
    "#######################\n",
    "\n",
    "# Add a color bar to the plot, labeling it with the data's unit of measurement\n",
    "## Your code goes here:\n",
    "\n",
    "#######################\n",
    "\n",
    "# Display the plot\n",
    "p## Your code goes here:\n",
    "\n",
    "#######################"
   ]
  }
 ],
 "metadata": {
  "kernelspec": {
   "display_name": "Python 3 (ipykernel)",
   "language": "python",
   "name": "python3"
  },
  "language_info": {
   "codemirror_mode": {
    "name": "ipython",
    "version": 3
   },
   "file_extension": ".py",
   "mimetype": "text/x-python",
   "name": "python",
   "nbconvert_exporter": "python",
   "pygments_lexer": "ipython3",
   "version": "3.12.2"
  }
 },
 "nbformat": 4,
 "nbformat_minor": 5
}
