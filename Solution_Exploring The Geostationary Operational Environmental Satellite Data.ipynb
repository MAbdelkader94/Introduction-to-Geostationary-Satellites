{
 "cells": [
  {
   "cell_type": "markdown",
   "id": "40375f6a-aeb3-47d0-b44a-04aceac39a43",
   "metadata": {},
   "source": [
    "# SatPy - Part 3: Exploring The Geostationary Operational Environmental Satellite (GOES) – R Data\n",
    "\n",
    "\n",
    "For detailed documentation, visit [SatPy Documentation](https://satpy.readthedocs.io/en/latest/index.html).\n",
    "\n",
    "SatPy is a powerful library for **reading**, **manipulating**, and **displaying** data from remote sensors, primarily related to meteorology. It also provides the capability to **save** this data as images or in various formats.\n",
    "\n",
    "SatPy excels at generating images with **individual channels or bands** and creating **RGB composites** directly from satellite instrument data.\n",
    "\n",
    "The pyresample library is used for **resampling data** in different areas with specific projections or uniform grids.\n",
    "\n",
    "Additionally, Satpy offers various **atmospheric corrections** and **visual enhancements**, either directly within Satpy or through the PySpectral and TrollImage packages."
   ]
  },
  {
   "cell_type": "markdown",
   "id": "259064ec-6ef8-466e-bc9f-e3766c9612f0",
   "metadata": {},
   "source": [
    "# The Geostationary Operational Environmental Satellite (GOES) – R Data\n",
    "\n",
    "https://www.goes-r.gov/"
   ]
  },
  {
   "cell_type": "markdown",
   "id": "37322f60-be7c-4899-ba79-be382f0beff7",
   "metadata": {
    "tags": []
   },
   "source": [
    "## Loading and Visualizing Satellite Data"
   ]
  },
  {
   "cell_type": "code",
   "execution_count": null,
   "id": "ba28bea3-b062-4c18-a15b-d88ab286d791",
   "metadata": {},
   "outputs": [],
   "source": [
    "urls2dwn = [ 'https://noaa-goes16.s3.amazonaws.com/ABI-L1b-RadF/2021/099/23/OR_ABI-L1b-RadF-M6C01_G16_s20210992350171_e20210992359479_c20210992359525.nc',\n",
    "  'https://noaa-goes16.s3.amazonaws.com/ABI-L1b-RadF/2021/099/23/OR_ABI-L1b-RadF-M6C02_G16_s20210992350171_e20210992359479_c20210992359522.nc',\n",
    "  'https://noaa-goes16.s3.amazonaws.com/ABI-L1b-RadF/2021/099/23/OR_ABI-L1b-RadF-M6C03_G16_s20210992350171_e20210992359479_c20210992359530.nc',\n",
    "  'https://noaa-goes16.s3.amazonaws.com/ABI-L1b-RadF/2021/099/23/OR_ABI-L1b-RadF-M6C04_G16_s20210992350171_e20210992359479_c20210992359514.nc',\n",
    "  'https://noaa-goes16.s3.amazonaws.com/ABI-L1b-RadF/2021/099/23/OR_ABI-L1b-RadF-M6C05_G16_s20210992350171_e20210992359479_c20210992359533.nc',\n",
    "  'https://noaa-goes16.s3.amazonaws.com/ABI-L1b-RadF/2021/099/23/OR_ABI-L1b-RadF-M6C06_G16_s20210992350171_e20210992359484_c20210992359528.nc',\n",
    "  'https://noaa-goes16.s3.amazonaws.com/ABI-L1b-RadF/2021/099/23/OR_ABI-L1b-RadF-M6C07_G16_s20210992350171_e20210992359490_c20210992359539.nc',\n",
    "  'https://noaa-goes16.s3.amazonaws.com/ABI-L1b-RadF/2021/099/23/OR_ABI-L1b-RadF-M6C08_G16_s20210992350171_e20210992359479_c20210992359535.nc',\n",
    "  'https://noaa-goes16.s3.amazonaws.com/ABI-L1b-RadF/2021/099/23/OR_ABI-L1b-RadF-M6C09_G16_s20210992350171_e20210992359484_c20210992359551.nc',\n",
    "  'https://noaa-goes16.s3.amazonaws.com/ABI-L1b-RadF/2021/099/23/OR_ABI-L1b-RadF-M6C10_G16_s20210992350171_e20210992359490_c20210992359536.nc',\n",
    "  'https://noaa-goes16.s3.amazonaws.com/ABI-L1b-RadF/2021/099/23/OR_ABI-L1b-RadF-M6C11_G16_s20210992350171_e20210992359479_c20210992359545.nc',\n",
    "  'https://noaa-goes16.s3.amazonaws.com/ABI-L1b-RadF/2021/099/23/OR_ABI-L1b-RadF-M6C12_G16_s20210992350171_e20210992359484_c20210992359539.nc',\n",
    "  'https://noaa-goes16.s3.amazonaws.com/ABI-L1b-RadF/2021/099/23/OR_ABI-L1b-RadF-M6C13_G16_s20210992350171_e20210992359490_c20210992359555.nc',\n",
    "  'https://noaa-goes16.s3.amazonaws.com/ABI-L1b-RadF/2021/099/23/OR_ABI-L1b-RadF-M6C14_G16_s20210992350171_e20210992359479_c20210992359547.nc',\n",
    "  'https://noaa-goes16.s3.amazonaws.com/ABI-L1b-RadF/2021/099/23/OR_ABI-L1b-RadF-M6C15_G16_s20210992350171_e20210992359484_c20210992359557.nc',\n",
    "  'https://noaa-goes16.s3.amazonaws.com/ABI-L1b-RadF/2021/099/23/OR_ABI-L1b-RadF-M6C16_G16_s20210992350171_e20210992359490_c20210992359542.nc']"
   ]
  },
  {
   "cell_type": "code",
   "execution_count": null,
   "id": "e5c11cfd-1711-4293-92bd-32b93a56aad6",
   "metadata": {},
   "outputs": [],
   "source": [
    "import requests\n",
    "import os\n",
    "\n",
    "# Specify the local directory where you want to save the files.\n",
    "# local_directory = input(\"Enter the path to the download folder: \")\n",
    "local_directory = \"Output_data/ABI-L1b-RadF/s20210992350171\"\n",
    "# Ensure that the local directory exists; create it if it doesn't.\n",
    "os.makedirs(local_directory, exist_ok=True)\n",
    "\n",
    "# Iterate through the URLs and download files.\n",
    "for urld in urls2dwn:\n",
    "    # Extract the filename from the URL.\n",
    "    ntw = urld.split('/')[-1]\n",
    "    \n",
    "    # Construct the complete path to save the file in the local directory.\n",
    "    file_path = os.path.join(local_directory, ntw)\n",
    "    \n",
    "    # Send an HTTP GET request to the URL.\n",
    "    resp = requests.get(urld)\n",
    "    \n",
    "    # Check if the response is successful (status code 200).\n",
    "    if resp.status_code == 200:\n",
    "        # Write the content to the file in binary mode.\n",
    "        with open(file_path, \"wb\") as file:\n",
    "            file.write(resp.content)\n",
    "        print(f\"File '{ntw}' downloaded and saved to '{local_directory}'.\")\n",
    "    else:\n",
    "        print(f\"Failed to download '{ntw}' from the URL: {urld}\")"
   ]
  },
  {
   "cell_type": "code",
   "execution_count": null,
   "id": "18d7ec96-1dbd-41a2-b40e-7b132b005e4d",
   "metadata": {},
   "outputs": [],
   "source": [
    "import warnings\n",
    "warnings.filterwarnings('ignore')"
   ]
  },
  {
   "cell_type": "code",
   "execution_count": null,
   "id": "a4c82f6b-f80c-47bd-9dc5-f58c680c1339",
   "metadata": {},
   "outputs": [],
   "source": [
    "from satpy.scene import Scene\n",
    "from satpy import find_files_and_readers"
   ]
  },
  {
   "cell_type": "markdown",
   "id": "beba35be-ed95-4c33-bdab-3af94840c5b3",
   "metadata": {
    "tags": []
   },
   "source": [
    "## Searching for GOES-R L1B Data"
   ]
  },
  {
   "cell_type": "code",
   "execution_count": null,
   "id": "eb81ffdd-5110-4896-aeda-528307a0ff54",
   "metadata": {},
   "outputs": [],
   "source": [
    "# Corrected path with double backslashes or raw string\n",
    "base_dir = \"Output_data/ABI-L1b-RadF/s20210992350171\"\n",
    "\n",
    "# Use the corrected path and reader to find files and readers\n",
    "fGRl1b = find_files_and_readers(base_dir=base_dir, reader='abi_l1b')\n",
    "\n",
    "# List the found files and associated readers\n",
    "fGRl1b"
   ]
  },
  {
   "cell_type": "markdown",
   "id": "e061e9f4-a83b-4079-bc38-e970df23e6e1",
   "metadata": {},
   "source": [
    "## Searching for GOES-R L2 CMIPC Data"
   ]
  },
  {
   "cell_type": "code",
   "execution_count": null,
   "id": "cb5216cf-07cc-4a94-a804-b11de6ee8967",
   "metadata": {},
   "outputs": [],
   "source": [
    "urls2dwn = ['https://noaa-goes16.s3.amazonaws.com/ABI-L2-CMIPC/2018/047/19/OR_ABI-L2-CMIPC-M3C01_G16_s20180471917196_e20180471919570_c20180471920048.nc',\n",
    "  'https://noaa-goes16.s3.amazonaws.com/ABI-L2-CMIPC/2018/047/19/OR_ABI-L2-CMIPC-M3C02_G16_s20180471917196_e20180471919569_c20180471920080.nc',\n",
    "  'https://noaa-goes16.s3.amazonaws.com/ABI-L2-CMIPC/2018/047/19/OR_ABI-L2-CMIPC-M3C03_G16_s20180471917196_e20180471919570_c20180471920045.nc',\n",
    "  'https://noaa-goes16.s3.amazonaws.com/ABI-L2-CMIPC/2018/047/19/OR_ABI-L2-CMIPC-M3C04_G16_s20180471917196_e20180471919569_c20180471920036.nc',\n",
    "  'https://noaa-goes16.s3.amazonaws.com/ABI-L2-CMIPC/2018/047/19/OR_ABI-L2-CMIPC-M3C05_G16_s20180471917196_e20180471919569_c20180471920050.nc',\n",
    "  'https://noaa-goes16.s3.amazonaws.com/ABI-L2-CMIPC/2018/047/19/OR_ABI-L2-CMIPC-M3C06_G16_s20180471917196_e20180471919575_c20180471920036.nc',\n",
    "  'https://noaa-goes16.s3.amazonaws.com/ABI-L2-CMIPC/2018/047/19/OR_ABI-L2-CMIPC-M3C07_G16_s20180471917196_e20180471919581_c20180471920040.nc',\n",
    "  'https://noaa-goes16.s3.amazonaws.com/ABI-L2-CMIPC/2018/047/19/OR_ABI-L2-CMIPC-M3C08_G16_s20180471917196_e20180471919569_c20180471920033.nc',\n",
    "  'https://noaa-goes16.s3.amazonaws.com/ABI-L2-CMIPC/2018/047/19/OR_ABI-L2-CMIPC-M3C09_G16_s20180471917196_e20180471919575_c20180471920022.nc',\n",
    "  'https://noaa-goes16.s3.amazonaws.com/ABI-L2-CMIPC/2018/047/19/OR_ABI-L2-CMIPC-M3C10_G16_s20180471917196_e20180471919581_c20180471920040.nc',\n",
    "  'https://noaa-goes16.s3.amazonaws.com/ABI-L2-CMIPC/2018/047/19/OR_ABI-L2-CMIPC-M3C11_G16_s20180471917196_e20180471919569_c20180471920038.nc',\n",
    "  'https://noaa-goes16.s3.amazonaws.com/ABI-L2-CMIPC/2018/047/19/OR_ABI-L2-CMIPC-M3C12_G16_s20180471917196_e20180471919576_c20180471920042.nc',\n",
    "  'https://noaa-goes16.s3.amazonaws.com/ABI-L2-CMIPC/2018/047/19/OR_ABI-L2-CMIPC-M3C13_G16_s20180471917196_e20180471919581_c20180471920028.nc',\n",
    "  'https://noaa-goes16.s3.amazonaws.com/ABI-L2-CMIPC/2018/047/19/OR_ABI-L2-CMIPC-M3C14_G16_s20180471917196_e20180471919569_c20180471920034.nc',\n",
    "  'https://noaa-goes16.s3.amazonaws.com/ABI-L2-CMIPC/2018/047/19/OR_ABI-L2-CMIPC-M3C15_G16_s20180471917196_e20180471919575_c20180471920042.nc',\n",
    "  'https://noaa-goes16.s3.amazonaws.com/ABI-L2-CMIPC/2018/047/19/OR_ABI-L2-CMIPC-M3C16_G16_s20180471917196_e20180471919581_c20180471920042.nc']"
   ]
  },
  {
   "cell_type": "code",
   "execution_count": null,
   "id": "2c64f03c-3d47-43a9-8dc1-f5b7ec369c66",
   "metadata": {},
   "outputs": [],
   "source": [
    "import requests\n",
    "import os\n",
    "\n",
    "# Specify the local directory where you want to save the files.\n",
    "# local_directory = input(\"Enter the path to the download folder: \")\n",
    "local_directory = \"Output_data/ABI-L2-CMIPC/s20180471917\"\n",
    "\n",
    "# Ensure that the local directory exists; create it if it doesn't.\n",
    "os.makedirs(local_directory, exist_ok=True)\n",
    "\n",
    "# Iterate through the URLs and download files.\n",
    "for urld in urls2dwn:\n",
    "    # Extract the filename from the URL.\n",
    "    ntw = urld.split('/')[-1]\n",
    "    \n",
    "    # Construct the complete path to save the file in the local directory.\n",
    "    file_path = os.path.join(local_directory, ntw)\n",
    "    \n",
    "    # Send an HTTP GET request to the URL.\n",
    "    resp = requests.get(urld)\n",
    "    \n",
    "    # Check if the response is successful (status code 200).\n",
    "    if resp.status_code == 200:\n",
    "        # Write the content to the file in binary mode.\n",
    "        with open(file_path, \"wb\") as file:\n",
    "            file.write(resp.content)\n",
    "        print(f\"File '{ntw}' downloaded and saved to '{local_directory}'.\")\n",
    "    else:\n",
    "        print(f\"Failed to download '{ntw}' from the URL: {urld}\")"
   ]
  },
  {
   "cell_type": "code",
   "execution_count": null,
   "id": "ee90a1a7-03de-4626-a49e-2c7c9211fab0",
   "metadata": {},
   "outputs": [],
   "source": [
    "# Define the path to the FCI test data folder\n",
    "\n",
    "base_dir = \"Output_data/ABI-L2-CMIPC/s20180471917\"\n",
    "\n",
    "# Use the defined path and reader ('abi_l2_nc') to find files and associated readers\n",
    "fGRl2 = find_files_and_readers(base_dir=base_dir, reader='abi_l2_nc')\n",
    "\n",
    "# List the found files and associated readers\n",
    "fGRl2"
   ]
  },
  {
   "cell_type": "markdown",
   "id": "b9f5162f-b4b0-4ce9-ae1b-a51615e0964f",
   "metadata": {},
   "source": [
    "## Searching for Native MSG Data"
   ]
  },
  {
   "cell_type": "code",
   "execution_count": null,
   "id": "5f5ec72a-0eac-48b1-a8e7-b19e27ca171f",
   "metadata": {},
   "outputs": [],
   "source": [
    "from datetime import datetime\n",
    "# Create a datetime object representing October 28, 2023, 3:30 PM\n",
    "date_time = datetime(2023, 10, 28, 15, 30)"
   ]
  },
  {
   "cell_type": "code",
   "execution_count": null,
   "id": "6be534be-b623-40f6-8ae2-784c705d62c9",
   "metadata": {},
   "outputs": [],
   "source": [
    "# Import the 'glob' function from the 'glob' module, which is used for file and directory path matching\n",
    "from glob import glob"
   ]
  },
  {
   "cell_type": "markdown",
   "id": "23d7587d-b060-4422-9585-a8feef0a3451",
   "metadata": {},
   "source": [
    "> **Attention:**\n",
    ">\n",
    "> **SatPy** always expects the original file names!\n",
    ">\n",
    "> So, do not change them when saving the data on your local machine. Otherwise, SatPy will not be able to open the files."
   ]
  },
  {
   "cell_type": "code",
   "execution_count": null,
   "id": "879bcfb6-3e63-482e-81c6-1dade191a75f",
   "metadata": {},
   "outputs": [],
   "source": [
    "# Create a Scene object 'scn' using a list of filenames 'fGRl1b'\n",
    "scn = Scene(filenames=fGRl1b)"
   ]
  },
  {
   "cell_type": "code",
   "execution_count": null,
   "id": "8ce2002b-716e-4d85-b50f-97a14e8a285c",
   "metadata": {},
   "outputs": [],
   "source": [
    "# Retrieve and display the attributes of the 'scn' Scene object\n",
    "scn.attrs"
   ]
  },
  {
   "cell_type": "markdown",
   "id": "166d8001",
   "metadata": {},
   "source": [
    "Below code shows differentbands avaialble in the image file corresponding to different wavelengths"
   ]
  },
  {
   "cell_type": "code",
   "execution_count": null,
   "id": "7751d228-a565-4311-a161-a4048b2c7f9b",
   "metadata": {},
   "outputs": [],
   "source": [
    "# Retrieve and list all the dataset names available within the 'scn' Scene object\n",
    "scn.all_dataset_names()"
   ]
  },
  {
   "cell_type": "code",
   "execution_count": null,
   "id": "b7b27471-0b11-4aa9-9f8d-275be276bb29",
   "metadata": {},
   "outputs": [],
   "source": [
    "# Retrieve and list the keys (dataset names) available within the 'scn' Scene object.\n",
    "# These keys correspond to different bands or datasets. For more details about these bands, you can refer to:\n",
    "# http://www.geo-web.org.uk/sats.php\n",
    "scn.keys()"
   ]
  },
  {
   "cell_type": "code",
   "execution_count": null,
   "id": "6624a28e-8940-4993-8ab6-1fbc651230c1",
   "metadata": {},
   "outputs": [],
   "source": [
    "# Load the dataset named \"C13\" into the 'scn' Scene object.\n",
    "scn.load([\"C13\"])"
   ]
  },
  {
   "cell_type": "code",
   "execution_count": null,
   "id": "0d1f805f-68e0-490b-a128-9015fdb2808b",
   "metadata": {},
   "outputs": [],
   "source": [
    "# Display the data from the \"C13\" dataset within the 'scn' Scene object.\n",
    "scn.show(\"C13\")"
   ]
  },
  {
   "cell_type": "code",
   "execution_count": null,
   "id": "49c18e66-05a6-4d4d-bea0-f79c64d7fabf",
   "metadata": {},
   "outputs": [],
   "source": [
    "# Enable inline plotting using Matplotlib for the Jupyter Notebook (%matplotlib inline).\n",
    "%matplotlib inline\n",
    "\n",
    "# Plot and display the \"C13\" dataset/band from the 'scn' Scene object as an image.\n",
    "scn[\"C13\"].plot.imshow()"
   ]
  },
  {
   "cell_type": "code",
   "execution_count": null,
   "id": "1c96d1bf-a16b-47e0-afba-41eb94d98e09",
   "metadata": {},
   "outputs": [],
   "source": [
    "# Import the Matplotlib library as 'plt' for creating plots and visualizations\n",
    "import matplotlib.pyplot as plt"
   ]
  },
  {
   "cell_type": "code",
   "execution_count": null,
   "id": "63f90ea8-4a46-4b71-9339-fc126747ae9d",
   "metadata": {},
   "outputs": [],
   "source": [
    "# Create a Matplotlib figure and axis with a specified size (10x10 inches)\n",
    "fig, ax = plt.subplots(figsize=(10, 10))\n",
    "\n",
    "# Display the data from the \"C13\" dataset in grayscale (\"Greys_r\" colormap)\n",
    "plt.imshow(scn[\"C13\"].values, cmap=\"Greys_r\")\n",
    "\n",
    "# Turn off the axis labels and ticks\n",
    "ax.set_axis_off()\n",
    "\n",
    "# Add a colorbar to the plot with a specified fraction of the original size\n",
    "plt.colorbar(fraction=0.04)\n",
    "\n",
    "# Show the plot\n",
    "plt.show()"
   ]
  },
  {
   "cell_type": "code",
   "execution_count": null,
   "id": "034f9104-fb6a-42ca-8446-b59df899205e",
   "metadata": {},
   "outputs": [],
   "source": [
    "# Access and retrieve the data from the \"C13\" dataset within the 'scn' Scene object.\n",
    "scn[\"C13\"]"
   ]
  },
  {
   "cell_type": "code",
   "execution_count": null,
   "id": "67042c34-8ea0-4d8f-a943-0d4a1392fd1d",
   "metadata": {},
   "outputs": [],
   "source": [
    "# Load the band at 10.3μm as radiances (in mW m-2 sr-1(cm-1)-1):\n",
    "scn.load([10.3], calibration=[\"radiance\"])\n",
    "\n",
    "# Load the band at 10.3μm as brightness temperatures (in Kelvin, K):\n",
    "scn.load([10.3], calibration=[\"brightness_temperature\"])"
   ]
  },
  {
   "cell_type": "code",
   "execution_count": null,
   "id": "8092dada-3b4f-4882-908a-f8bae16280c0",
   "metadata": {},
   "outputs": [],
   "source": [
    "# Retrieve and list the keys (dataset names) available within the 'scn' Scene object.\n",
    "scn.keys()"
   ]
  },
  {
   "cell_type": "code",
   "execution_count": null,
   "id": "9f314712-0c58-4dd4-a935-82247d633c13",
   "metadata": {},
   "outputs": [],
   "source": [
    "# Retrieve the wavelength and calibration information for the second dataset (index 1) in the 'scn' Scene object.\n",
    "# The [1] index refers to the second dataset, and ['wavelength'] and ['calibration'] are attributes of the dataset.\n",
    "scn.keys()[1]['wavelength'][1], scn.keys()[1]['calibration']"
   ]
  },
  {
   "cell_type": "code",
   "execution_count": null,
   "id": "7362d584-7383-4815-965e-9db92cb69b70",
   "metadata": {},
   "outputs": [],
   "source": [
    "# Create a Matplotlib figure with two subplots side by side (1 row, 2 columns), specifying the figure size.\n",
    "fig, (ax1, ax2) = plt.subplots(1, 2, figsize=(14, 6))\n",
    "\n",
    "# Display the data from the second dataset (index 1) as an image in the first subplot with a grayscale colormap.\n",
    "im1 = ax1.imshow(scn[scn.keys()[1]].values, cmap=\"Greys_r\")\n",
    "ax1.set_axis_off()  # Turn off axis labels and ticks for the first subplot\n",
    "\n",
    "# Display the data from the first dataset (index 0) as an image in the second subplot with a grayscale colormap.\n",
    "im2 = ax2.imshow(scn[scn.keys()[0]].values, cmap=\"Greys_r\")\n",
    "ax2.set_axis_off()  # Turn off axis labels and ticks for the second subplot\n",
    "\n",
    "# Set titles for the subplots to indicate the type of data displayed.\n",
    "ax2.set_title(\"10.3μm Brightness temperature\")\n",
    "ax1.set_title(\"10.3μm Radiance\")\n",
    "\n",
    "# Add colorbars to the subplots with a specified fraction of the original size.\n",
    "fig.colorbar(im1, ax=ax1, fraction=0.05)\n",
    "fig.colorbar(im2, ax=ax2, fraction=0.05)\n",
    "\n",
    "# Show the figure with the two subplots.\n",
    "plt.show()"
   ]
  },
  {
   "cell_type": "markdown",
   "id": "7a2e61d5",
   "metadata": {},
   "source": [
    "Question: How can you plot or access the data for the 'C13' dataset?\""
   ]
  },
  {
   "cell_type": "code",
   "execution_count": null,
   "id": "d9b0df09",
   "metadata": {},
   "outputs": [],
   "source": [
    "# Solution:\n",
    "# To plot the 'C13' dataset:\n",
    "scn['C13'].plot.imshow()\n",
    "\n",
    "# To access the data values for the 'C13' dataset:\n",
    "c13_data = scn['C13'].values"
   ]
  },
  {
   "cell_type": "code",
   "execution_count": null,
   "id": "417f058a-db9e-462c-b8fc-0cf43119d338",
   "metadata": {},
   "outputs": [],
   "source": [
    "# Retrieve the 'x' coordinate information for the 'C13' dataset.\n",
    "x_coordinates = scn[\"C13\"].x"
   ]
  },
  {
   "cell_type": "code",
   "execution_count": null,
   "id": "7565ae4f-638d-4354-8a34-a5987575f7bc",
   "metadata": {},
   "outputs": [],
   "source": [
    "# define palette (matplotlib style)\n",
    "cmap = ['#ffffff', '#ffffff', '#ffffff', '#ffffff', '#ffffff', '#b6ffb6', '#79ff79', '#00ff00', '#ff8e8e', '#ff5151', '#ff0000', '#aa0000', '#550000', '#00ffff', '#00bef3', '#0079ca', \n",
    "        '#0028a2', '#000079', '#fbfb00', '#e7e700', '#d2d200', '#baba00', '#a6a600', '#8e8e00', '#797900', '#656500', '#dbdbdb', '#d2d2d2', '#cacaca', '#c2c2c2', '#bababa', '#b2b2b2', \n",
    "        '#aaaaaa', '#a6a6a6', '#9e9e9e', '#969696', '#8e8e8e', '#868686', '#7d7d7d', '#757575', '#6d6d6d', '#656565', '#5d5d5d', '#595959', '#515151', '#494949', '#414141', '#393939',\n",
    "        '#313131', '#282828', '#202020', '#181818', '#141414', '#000000', '#000000', '#000000', '#000000', '#000000', '#000000', '#000000', '#000000', '#000000', '#000000', '#000000',]"
   ]
  },
  {
   "cell_type": "code",
   "execution_count": null,
   "id": "2be8f6c9-1c66-4b0f-965a-01d6f72459aa",
   "metadata": {},
   "outputs": [],
   "source": [
    "# Retrieve the area definition (spatial information) associated with the 'C13' dataset.\n",
    "area_def = scn['C13'].attrs['area']"
   ]
  },
  {
   "cell_type": "code",
   "execution_count": null,
   "id": "a6742733-b4ab-4278-af32-6f42f884da94",
   "metadata": {},
   "outputs": [],
   "source": [
    "# Convert the area definition to a Cartopy Coordinate Reference System (CRS).\n",
    "cartopy_crs = area_def.to_cartopy_crs()"
   ]
  },
  {
   "cell_type": "code",
   "execution_count": null,
   "id": "3ec0f974-9452-4dde-9859-ea7dd51d6b12",
   "metadata": {},
   "outputs": [],
   "source": [
    "# Display the results of the 'C13' dataset on a map using Cartopy and Matplotlib.\n",
    "# Convert the area definition to a Cartopy CRS for proper georeferencing.\n",
    "crs = area_def.to_cartopy_crs()\n",
    "\n",
    "# Create a Matplotlib figure with a specified size.\n",
    "fig = plt.figure(figsize=(10, 10))\n",
    "\n",
    "# Create a map axis using Cartopy with coastlines and gridlines.\n",
    "ax = plt.axes(projection=crs)\n",
    "ax.coastlines()\n",
    "ax.gridlines()\n",
    "\n",
    "# Display the 'C13' dataset on the map with the correct georeferencing.\n",
    "plt.imshow(scn['C13'], transform=crs, extent=crs.bounds, origin='upper')\n",
    "\n",
    "# Add a colorbar to the plot with units information from the dataset's attributes.\n",
    "plt.colorbar(label=scn['C13'].attrs['units'])\n",
    "\n",
    "# Show the map with the dataset.\n",
    "plt.show()"
   ]
  },
  {
   "cell_type": "code",
   "execution_count": null,
   "id": "db5e3459-50f7-43df-8eb4-38f6c5263112",
   "metadata": {},
   "outputs": [],
   "source": [
    "import numpy as np"
   ]
  },
  {
   "cell_type": "code",
   "execution_count": null,
   "id": "2ba616ec-051b-47d3-95bf-fb2db76f0c5b",
   "metadata": {},
   "outputs": [],
   "source": [
    "# Define custom color levels and colormap for visualization.\n",
    "# This code sets up custom levels, a normalization method, and a colormap for the visualization.\n",
    "levels = np.linspace(-109, 56, num=len(cmap))  # Define custom levels for color mapping.\n",
    "norm = plt.cm.colors.BoundaryNorm(levels, len(levels))  # Normalize data based on levels.\n",
    "irmap = plt.cm.colors.ListedColormap(cmap)  # Create a custom colormap.\n",
    "\n",
    "# Display the results of the 'C13' dataset on a map using Cartopy and Matplotlib.\n",
    "# Convert the area definition to a Cartopy CRS for proper georeferencing.\n",
    "crs = area_def.to_cartopy_crs()\n",
    "\n",
    "# Create a Matplotlib figure with a specified size.\n",
    "fig = plt.figure(figsize=(10, 10))\n",
    "\n",
    "# Create a map axis using Cartopy with coastlines and gridlines.\n",
    "ax = plt.axes(projection=crs)\n",
    "ax.coastlines()\n",
    "ax.gridlines()\n",
    "\n",
    "# Display the 'C13' dataset on the map with the correct georeferencing and custom colormap.\n",
    "# Set the minimum and maximum values for color mapping using 'vmin' and 'vmax'.\n",
    "plt.imshow(scn['C13'], transform=crs, extent=crs.bounds, origin='upper',\n",
    "           vmin=-109 + 273.15, vmax=56 + 273.15, cmap=irmap)\n",
    "\n",
    "# Add a colorbar to the plot with units information from the dataset's attributes.\n",
    "plt.colorbar(label=scn['C13'].attrs['units'])\n",
    "\n",
    "# Show the map with the dataset.\n",
    "plt.show()"
   ]
  },
  {
   "cell_type": "markdown",
   "id": "b6823494-7e7f-4471-a64b-0b3753623c65",
   "metadata": {},
   "source": [
    "# Cropping"
   ]
  },
  {
   "cell_type": "code",
   "execution_count": null,
   "id": "99e0ec2b-0ba6-4880-b450-6b3ae86e0557",
   "metadata": {},
   "outputs": [],
   "source": [
    "# Crop the scene to a specific region defined by latitude and longitude values.\n",
    "# The bounding box is defined as (lon_min, lat_min, lon_max, lat_max).\n",
    "# In this case, the region spans from longitude -93.5° to -76.0° and from latitude 5.5° to 19.5°.\n",
    "\n",
    "# Crop the scene to the specified bounding box.\n",
    "scn_cropped = scn.crop(ll_bbox=(-93.5, 5.5, -76.0, 19.5))\n",
    "\n",
    "# Display the cropped dataset for the 'C13' channel.\n",
    "scn_cropped.show(\"C13\")"
   ]
  },
  {
   "cell_type": "code",
   "execution_count": null,
   "id": "150b93d3-f061-45ea-b4be-87801d575c37",
   "metadata": {},
   "outputs": [],
   "source": [
    "# Retrieve the area definition (spatial information) associated with the 'C13' dataset in the cropped scene.\n",
    "area_def_c = scn_cropped['C13'].attrs['area']"
   ]
  },
  {
   "cell_type": "code",
   "execution_count": null,
   "id": "c274cdc0-5122-4f46-b9ba-85aec5683641",
   "metadata": {},
   "outputs": [],
   "source": [
    "# Display the results of the 'C13' dataset within the cropped region using Cartopy and Matplotlib.\n",
    "# Convert the area definition of the cropped scene to a Cartopy CRS for proper georeferencing.\n",
    "crs = area_def_c.to_cartopy_crs()\n",
    "\n",
    "# Create a Matplotlib figure with a specified size.\n",
    "fig = plt.figure(figsize=(10, 10))\n",
    "\n",
    "# Create a map axis using Cartopy with coastlines and gridlines.\n",
    "ax = plt.axes(projection=crs)\n",
    "ax.coastlines()\n",
    "ax.gridlines()\n",
    "\n",
    "# Display the 'C13' dataset within the cropped region on the map.\n",
    "# Set the minimum and maximum values for color mapping using 'vmin' and 'vmax'.\n",
    "# Apply the custom colormap 'irmap' defined earlier.\n",
    "plt.imshow(scn_cropped['C13'], transform=crs, extent=crs.bounds, origin='upper',\n",
    "           vmin=-109 + 273.15, vmax=56 + 273.15, cmap=irmap)\n",
    "\n",
    "# Add a colorbar to the plot with units information from the dataset's attributes.\n",
    "plt.colorbar(label=scn_cropped['C13'].attrs['units'])\n",
    "\n",
    "# Show the map with the 'C13' dataset within the cropped region.\n",
    "plt.show()"
   ]
  }
 ],
 "metadata": {
  "kernelspec": {
   "display_name": "Python 3 (ipykernel)",
   "language": "python",
   "name": "python3"
  },
  "language_info": {
   "codemirror_mode": {
    "name": "ipython",
    "version": 3
   },
   "file_extension": ".py",
   "mimetype": "text/x-python",
   "name": "python",
   "nbconvert_exporter": "python",
   "pygments_lexer": "ipython3",
   "version": "3.12.2"
  }
 },
 "nbformat": 4,
 "nbformat_minor": 5
}
